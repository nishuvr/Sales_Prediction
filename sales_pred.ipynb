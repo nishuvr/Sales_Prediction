{
  "nbformat": 4,
  "nbformat_minor": 0,
  "metadata": {
    "colab": {
      "name": "Reltas_ML_assignment",
      "provenance": [],
      "collapsed_sections": []
    },
    "kernelspec": {
      "name": "python3",
      "display_name": "Python 3"
    },
    "language_info": {
      "name": "python"
    }
  },
  "cells": [
    {
      "cell_type": "markdown",
      "metadata": {
        "id": "_S_RyjZGkzxv"
      },
      "source": [
        ""
      ]
    },
    {
      "cell_type": "code",
      "metadata": {
        "id": "8ruCsO2eU6-d"
      },
      "source": [
        "import numpy as np\n",
        "import pandas as pd\n",
        "import matplotlib.pyplot as plt\n",
        "import seaborn as sns"
      ],
      "execution_count": null,
      "outputs": []
    },
    {
      "cell_type": "code",
      "metadata": {
        "id": "wJCK-Bw2U_iD"
      },
      "source": [
        "from google.colab import files \n",
        "import io"
      ],
      "execution_count": null,
      "outputs": []
    },
    {
      "cell_type": "code",
      "metadata": {
        "colab": {
          "resources": {
            "http://localhost:8080/nbextensions/google.colab/files.js": {
              "data": "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",
              "ok": true,
              "headers": [
                [
                  "content-type",
                  "application/javascript"
                ]
              ],
              "status": 200,
              "status_text": ""
            }
          },
          "base_uri": "https://localhost:8080/",
          "height": 108
        },
        "id": "JrJw4pRGVfm9",
        "outputId": "7ee26d35-714d-4896-989e-b99c6ec9ebed"
      },
      "source": [
        "uploaded = files.upload()"
      ],
      "execution_count": null,
      "outputs": [
        {
          "output_type": "display_data",
          "data": {
            "text/html": [
              "\n",
              "     <input type=\"file\" id=\"files-315fcb6a-3cc1-469e-a2b4-b35dc7dada16\" name=\"files[]\" multiple disabled\n",
              "        style=\"border:none\" />\n",
              "     <output id=\"result-315fcb6a-3cc1-469e-a2b4-b35dc7dada16\">\n",
              "      Upload widget is only available when the cell has been executed in the\n",
              "      current browser session. Please rerun this cell to enable.\n",
              "      </output>\n",
              "      <script src=\"/nbextensions/google.colab/files.js\"></script> "
            ],
            "text/plain": [
              "<IPython.core.display.HTML object>"
            ]
          },
          "metadata": {
            "tags": []
          }
        },
        {
          "output_type": "stream",
          "text": [
            "Saving interactions.xlsx to interactions (2).xlsx\n",
            "Saving sales-pipeline.xlsx to sales-pipeline (1).xlsx\n"
          ],
          "name": "stdout"
        }
      ]
    },
    {
      "cell_type": "code",
      "metadata": {
        "id": "MzciMFeHV7VI"
      },
      "source": [
        "interactions = pd.read_excel((uploaded['interactions.xlsx']))\n",
        "sales = pd.read_excel((uploaded['sales-pipeline.xlsx']))\n"
      ],
      "execution_count": null,
      "outputs": []
    },
    {
      "cell_type": "code",
      "metadata": {
        "colab": {
          "base_uri": "https://localhost:8080/"
        },
        "id": "1xdBh5p2XeHR",
        "outputId": "8ce36a1a-10e8-4cc2-aa7f-ede06fb39c4d"
      },
      "source": [
        "interactions.info()\n",
        "sales.info()"
      ],
      "execution_count": null,
      "outputs": [
        {
          "output_type": "stream",
          "text": [
            "<class 'pandas.core.frame.DataFrame'>\n",
            "RangeIndex: 316776 entries, 0 to 316775\n",
            "Data columns (total 6 columns):\n",
            " #   Column                           Non-Null Count   Dtype         \n",
            "---  ------                           --------------   -----         \n",
            " 0   interactionID                    316776 non-null  int64         \n",
            " 1   fromEmailId                      316776 non-null  object        \n",
            " 2   toEmailId                        316776 non-null  object        \n",
            " 3   InteractionDate                  316776 non-null  datetime64[ns]\n",
            " 4   InteractionType(Call/Email/SMS)  316776 non-null  object        \n",
            " 5   Extracted Interaction Text       316776 non-null  object        \n",
            "dtypes: datetime64[ns](1), int64(1), object(4)\n",
            "memory usage: 14.5+ MB\n",
            "<class 'pandas.core.frame.DataFrame'>\n",
            "RangeIndex: 8800 entries, 0 to 8799\n",
            "Data columns (total 11 columns):\n",
            " #   Column             Non-Null Count  Dtype         \n",
            "---  ------             --------------  -----         \n",
            " 0   Account            8800 non-null   object        \n",
            " 1   Opportunity_ID     8800 non-null   object        \n",
            " 2   Sales_Agent        8800 non-null   object        \n",
            " 3   SalesAgentEmailID  8800 non-null   object        \n",
            " 4   ContactEmailID     8800 non-null   object        \n",
            " 5   Deal_Stage         8800 non-null   object        \n",
            " 6   Product            8800 non-null   object        \n",
            " 7   Close_Value        8800 non-null   int64         \n",
            " 8   Created Date       8800 non-null   datetime64[ns]\n",
            " 9   Close Date         8800 non-null   datetime64[ns]\n",
            " 10  DateDiff           8800 non-null   int64         \n",
            "dtypes: datetime64[ns](2), int64(2), object(7)\n",
            "memory usage: 756.4+ KB\n"
          ],
          "name": "stdout"
        }
      ]
    },
    {
      "cell_type": "code",
      "metadata": {
        "colab": {
          "base_uri": "https://localhost:8080/",
          "height": 293
        },
        "id": "LOPKLDCtX3vf",
        "outputId": "9523e421-239c-479a-8aba-a3d85bdcba89"
      },
      "source": [
        "interactions.head(5)"
      ],
      "execution_count": null,
      "outputs": [
        {
          "output_type": "execute_result",
          "data": {
            "text/html": [
              "<div>\n",
              "<style scoped>\n",
              "    .dataframe tbody tr th:only-of-type {\n",
              "        vertical-align: middle;\n",
              "    }\n",
              "\n",
              "    .dataframe tbody tr th {\n",
              "        vertical-align: top;\n",
              "    }\n",
              "\n",
              "    .dataframe thead th {\n",
              "        text-align: right;\n",
              "    }\n",
              "</style>\n",
              "<table border=\"1\" class=\"dataframe\">\n",
              "  <thead>\n",
              "    <tr style=\"text-align: right;\">\n",
              "      <th></th>\n",
              "      <th>interactionID</th>\n",
              "      <th>fromEmailId</th>\n",
              "      <th>toEmailId</th>\n",
              "      <th>InteractionDate</th>\n",
              "      <th>InteractionType(Call/Email/SMS)</th>\n",
              "      <th>Extracted Interaction Text</th>\n",
              "    </tr>\n",
              "  </thead>\n",
              "  <tbody>\n",
              "    <tr>\n",
              "      <th>0</th>\n",
              "      <td>8842411</td>\n",
              "      <td>gladys@piedpiper.com</td>\n",
              "      <td>kristle@dontechi.com</td>\n",
              "      <td>2016-01-04</td>\n",
              "      <td>Call</td>\n",
              "      <td>I thoroughly enjoyed your presentation yesterd...</td>\n",
              "    </tr>\n",
              "    <tr>\n",
              "      <th>1</th>\n",
              "      <td>8015509</td>\n",
              "      <td>donn@piedpiper.com</td>\n",
              "      <td>orpha@umbrellacorporation.com</td>\n",
              "      <td>2016-01-04</td>\n",
              "      <td>Call</td>\n",
              "      <td>speaking with you and your staff will be a tre...</td>\n",
              "    </tr>\n",
              "    <tr>\n",
              "      <th>2</th>\n",
              "      <td>5976842</td>\n",
              "      <td>kary@piedpiper.com</td>\n",
              "      <td>claribel@goodsilron.com</td>\n",
              "      <td>2016-01-04</td>\n",
              "      <td>Email</td>\n",
              "      <td>However, I am unable to join because of my fam...</td>\n",
              "    </tr>\n",
              "    <tr>\n",
              "      <th>3</th>\n",
              "      <td>1471794</td>\n",
              "      <td>boris@piedpiper.com</td>\n",
              "      <td>gordon@scotfind.com</td>\n",
              "      <td>2016-01-04</td>\n",
              "      <td>Call</td>\n",
              "      <td>We are extremely sorry to inform you that we h...</td>\n",
              "    </tr>\n",
              "    <tr>\n",
              "      <th>4</th>\n",
              "      <td>4330320</td>\n",
              "      <td>darcel@piedpiper.com</td>\n",
              "      <td>benny@treequote.com</td>\n",
              "      <td>2016-01-04</td>\n",
              "      <td>Call</td>\n",
              "      <td>I don't think it's possible for me to meet you</td>\n",
              "    </tr>\n",
              "  </tbody>\n",
              "</table>\n",
              "</div>"
            ],
            "text/plain": [
              "   interactionID  ...                         Extracted Interaction Text\n",
              "0        8842411  ...  I thoroughly enjoyed your presentation yesterd...\n",
              "1        8015509  ...  speaking with you and your staff will be a tre...\n",
              "2        5976842  ...  However, I am unable to join because of my fam...\n",
              "3        1471794  ...  We are extremely sorry to inform you that we h...\n",
              "4        4330320  ...     I don't think it's possible for me to meet you\n",
              "\n",
              "[5 rows x 6 columns]"
            ]
          },
          "metadata": {
            "tags": []
          },
          "execution_count": 240
        }
      ]
    },
    {
      "cell_type": "code",
      "metadata": {
        "colab": {
          "base_uri": "https://localhost:8080/",
          "height": 365
        },
        "id": "N5LCun6gX4Pp",
        "outputId": "e97b58bf-dd96-496e-ce34-c814aa7ebb7f"
      },
      "source": [
        "sales.head(5)"
      ],
      "execution_count": null,
      "outputs": [
        {
          "output_type": "execute_result",
          "data": {
            "text/html": [
              "<div>\n",
              "<style scoped>\n",
              "    .dataframe tbody tr th:only-of-type {\n",
              "        vertical-align: middle;\n",
              "    }\n",
              "\n",
              "    .dataframe tbody tr th {\n",
              "        vertical-align: top;\n",
              "    }\n",
              "\n",
              "    .dataframe thead th {\n",
              "        text-align: right;\n",
              "    }\n",
              "</style>\n",
              "<table border=\"1\" class=\"dataframe\">\n",
              "  <thead>\n",
              "    <tr style=\"text-align: right;\">\n",
              "      <th></th>\n",
              "      <th>Account</th>\n",
              "      <th>Opportunity_ID</th>\n",
              "      <th>Sales_Agent</th>\n",
              "      <th>SalesAgentEmailID</th>\n",
              "      <th>ContactEmailID</th>\n",
              "      <th>Deal_Stage</th>\n",
              "      <th>Product</th>\n",
              "      <th>Close_Value</th>\n",
              "      <th>Created Date</th>\n",
              "      <th>Close Date</th>\n",
              "      <th>DateDiff</th>\n",
              "    </tr>\n",
              "  </thead>\n",
              "  <tbody>\n",
              "    <tr>\n",
              "      <th>0</th>\n",
              "      <td>Konex</td>\n",
              "      <td>3KR50X38</td>\n",
              "      <td>Corliss Cosme</td>\n",
              "      <td>corliss@piedpiper.com</td>\n",
              "      <td>delila@konex.com</td>\n",
              "      <td>Won</td>\n",
              "      <td>GTX Plus Basic</td>\n",
              "      <td>1255</td>\n",
              "      <td>2016-01-04</td>\n",
              "      <td>2016-05-24</td>\n",
              "      <td>141</td>\n",
              "    </tr>\n",
              "    <tr>\n",
              "      <th>1</th>\n",
              "      <td>Finjob</td>\n",
              "      <td>YFS5KLJJ</td>\n",
              "      <td>Rosalina Dieter</td>\n",
              "      <td>rosalina@piedpiper.com</td>\n",
              "      <td>belinda@finjob.com</td>\n",
              "      <td>Won</td>\n",
              "      <td>MG Special</td>\n",
              "      <td>45</td>\n",
              "      <td>2016-01-04</td>\n",
              "      <td>2016-11-02</td>\n",
              "      <td>303</td>\n",
              "    </tr>\n",
              "    <tr>\n",
              "      <th>2</th>\n",
              "      <td>Kinnamplus</td>\n",
              "      <td>N0ONCYVZ</td>\n",
              "      <td>Donn Cantrell</td>\n",
              "      <td>donn@piedpiper.com</td>\n",
              "      <td>monte@kinnamplus.com</td>\n",
              "      <td>Lost</td>\n",
              "      <td>MG Special</td>\n",
              "      <td>1054</td>\n",
              "      <td>2016-01-06</td>\n",
              "      <td>2016-12-07</td>\n",
              "      <td>336</td>\n",
              "    </tr>\n",
              "    <tr>\n",
              "      <th>3</th>\n",
              "      <td>Genco Pura Olive Oil Company</td>\n",
              "      <td>IBEUTCSW</td>\n",
              "      <td>James Ascencio</td>\n",
              "      <td>james@piedpiper.com</td>\n",
              "      <td>karole@gencopuraoliveoilcompany.com</td>\n",
              "      <td>In Progress</td>\n",
              "      <td>MG Advanced</td>\n",
              "      <td>1054</td>\n",
              "      <td>2016-01-06</td>\n",
              "      <td>2016-09-11</td>\n",
              "      <td>249</td>\n",
              "    </tr>\n",
              "    <tr>\n",
              "      <th>4</th>\n",
              "      <td>Initech</td>\n",
              "      <td>G8AO5FA2</td>\n",
              "      <td>Wilburn Farren</td>\n",
              "      <td>wilburn@piedpiper.com</td>\n",
              "      <td>alejandro@initech.com</td>\n",
              "      <td>Lost</td>\n",
              "      <td>MG Advanced</td>\n",
              "      <td>517</td>\n",
              "      <td>2016-01-06</td>\n",
              "      <td>2016-09-18</td>\n",
              "      <td>256</td>\n",
              "    </tr>\n",
              "  </tbody>\n",
              "</table>\n",
              "</div>"
            ],
            "text/plain": [
              "                        Account Opportunity_ID  ... Close Date DateDiff\n",
              "0                         Konex       3KR50X38  ... 2016-05-24      141\n",
              "1                        Finjob       YFS5KLJJ  ... 2016-11-02      303\n",
              "2                    Kinnamplus       N0ONCYVZ  ... 2016-12-07      336\n",
              "3  Genco Pura Olive Oil Company       IBEUTCSW  ... 2016-09-11      249\n",
              "4                       Initech       G8AO5FA2  ... 2016-09-18      256\n",
              "\n",
              "[5 rows x 11 columns]"
            ]
          },
          "metadata": {
            "tags": []
          },
          "execution_count": 241
        }
      ]
    },
    {
      "cell_type": "code",
      "metadata": {
        "colab": {
          "base_uri": "https://localhost:8080/"
        },
        "id": "XcddNZnjX4aJ",
        "outputId": "2b39fb2d-d24a-459f-fd3d-12e7e131344c"
      },
      "source": [
        "train = sales[sales['Deal_Stage'] != 'In Progress']\n",
        "train.info()"
      ],
      "execution_count": null,
      "outputs": [
        {
          "output_type": "stream",
          "text": [
            "<class 'pandas.core.frame.DataFrame'>\n",
            "Int64Index: 6711 entries, 0 to 8299\n",
            "Data columns (total 11 columns):\n",
            " #   Column             Non-Null Count  Dtype         \n",
            "---  ------             --------------  -----         \n",
            " 0   Account            6711 non-null   object        \n",
            " 1   Opportunity_ID     6711 non-null   object        \n",
            " 2   Sales_Agent        6711 non-null   object        \n",
            " 3   SalesAgentEmailID  6711 non-null   object        \n",
            " 4   ContactEmailID     6711 non-null   object        \n",
            " 5   Deal_Stage         6711 non-null   object        \n",
            " 6   Product            6711 non-null   object        \n",
            " 7   Close_Value        6711 non-null   int64         \n",
            " 8   Created Date       6711 non-null   datetime64[ns]\n",
            " 9   Close Date         6711 non-null   datetime64[ns]\n",
            " 10  DateDiff           6711 non-null   int64         \n",
            "dtypes: datetime64[ns](2), int64(2), object(7)\n",
            "memory usage: 629.2+ KB\n"
          ],
          "name": "stdout"
        }
      ]
    },
    {
      "cell_type": "code",
      "metadata": {
        "id": "5rT8QYEHYH_C"
      },
      "source": [
        "df1 = pd.merge(train, interactions, how='left', left_on=['SalesAgentEmailID','ContactEmailID'], right_on = ['fromEmailId','toEmailId'])"
      ],
      "execution_count": null,
      "outputs": []
    },
    {
      "cell_type": "code",
      "metadata": {
        "colab": {
          "base_uri": "https://localhost:8080/"
        },
        "id": "mFp0RFEjYS-a",
        "outputId": "c8be1ecf-c849-4788-ecd2-11343d826824"
      },
      "source": [
        "df1.info()\n",
        "df1.columns"
      ],
      "execution_count": null,
      "outputs": [
        {
          "output_type": "stream",
          "text": [
            "<class 'pandas.core.frame.DataFrame'>\n",
            "Int64Index: 704096 entries, 0 to 704095\n",
            "Data columns (total 17 columns):\n",
            " #   Column                           Non-Null Count   Dtype         \n",
            "---  ------                           --------------   -----         \n",
            " 0   Account                          704096 non-null  object        \n",
            " 1   Opportunity_ID                   704096 non-null  object        \n",
            " 2   Sales_Agent                      704096 non-null  object        \n",
            " 3   SalesAgentEmailID                704096 non-null  object        \n",
            " 4   ContactEmailID                   704096 non-null  object        \n",
            " 5   Deal_Stage                       704096 non-null  object        \n",
            " 6   Product                          704096 non-null  object        \n",
            " 7   Close_Value                      704096 non-null  int64         \n",
            " 8   Created Date                     704096 non-null  datetime64[ns]\n",
            " 9   Close Date                       704096 non-null  datetime64[ns]\n",
            " 10  DateDiff                         704096 non-null  int64         \n",
            " 11  interactionID                    704096 non-null  int64         \n",
            " 12  fromEmailId                      704096 non-null  object        \n",
            " 13  toEmailId                        704096 non-null  object        \n",
            " 14  InteractionDate                  704096 non-null  datetime64[ns]\n",
            " 15  InteractionType(Call/Email/SMS)  704096 non-null  object        \n",
            " 16  Extracted Interaction Text       704096 non-null  object        \n",
            "dtypes: datetime64[ns](3), int64(3), object(11)\n",
            "memory usage: 96.7+ MB\n"
          ],
          "name": "stdout"
        },
        {
          "output_type": "execute_result",
          "data": {
            "text/plain": [
              "Index(['Account', 'Opportunity_ID', 'Sales_Agent', 'SalesAgentEmailID',\n",
              "       'ContactEmailID', 'Deal_Stage', 'Product', 'Close_Value',\n",
              "       'Created Date', 'Close Date', 'DateDiff', 'interactionID',\n",
              "       'fromEmailId', 'toEmailId', 'InteractionDate',\n",
              "       'InteractionType(Call/Email/SMS)', 'Extracted Interaction Text'],\n",
              "      dtype='object')"
            ]
          },
          "metadata": {
            "tags": []
          },
          "execution_count": 244
        }
      ]
    },
    {
      "cell_type": "code",
      "metadata": {
        "colab": {
          "base_uri": "https://localhost:8080/"
        },
        "id": "6o681K40wR3B",
        "outputId": "a0148389-905a-4268-e30a-166d80abeb89"
      },
      "source": [
        "import nltk\n",
        "nltk.download('stopwords')\n",
        "stop = stopwords.words('english')\n",
        "df1['Extracted Interaction Text'] = df1['Extracted Interaction Text'].apply(lambda x: ' '.join([word for word in x.split() if word not in (stop)]))"
      ],
      "execution_count": null,
      "outputs": [
        {
          "output_type": "stream",
          "text": [
            "[nltk_data] Downloading package stopwords to /root/nltk_data...\n",
            "[nltk_data]   Package stopwords is already up-to-date!\n"
          ],
          "name": "stdout"
        }
      ]
    },
    {
      "cell_type": "code",
      "metadata": {
        "colab": {
          "base_uri": "https://localhost:8080/"
        },
        "id": "WYBWQqqCwdB5",
        "outputId": "bb647981-3848-4aeb-fd34-2c4595f032df"
      },
      "source": [
        "df1['Extracted Interaction Text']"
      ],
      "execution_count": null,
      "outputs": [
        {
          "output_type": "execute_result",
          "data": {
            "text/plain": [
              "0         We writing GHF regarding previous discussions ...\n",
              "1         I asked send progress project end last week I ...\n",
              "2         I wish commend receptionist, Jany Dan, way han...\n",
              "3         I need cancel appointment I made January 29, 9...\n",
              "4         Congratulations! Your hard work paid off! Afte...\n",
              "                                ...                        \n",
              "704091    We writing GHF regarding previous discussions ...\n",
              "704092    We approved proposal begin search 401(k) provi...\n",
              "704093    hope best you. contributions product developme...\n",
              "704094    I have'nt received updates though I asked spec...\n",
              "704095    My last day manager MaXCorp two weeks Friday, ...\n",
              "Name: Extracted Interaction Text, Length: 704096, dtype: object"
            ]
          },
          "metadata": {
            "tags": []
          },
          "execution_count": 246
        }
      ]
    },
    {
      "cell_type": "code",
      "metadata": {
        "id": "1IpHOubnYZe7"
      },
      "source": [
        "cols_use = ['Deal_Stage','Extracted Interaction Text']\n",
        "df = df1[cols_use]"
      ],
      "execution_count": null,
      "outputs": []
    },
    {
      "cell_type": "code",
      "metadata": {
        "colab": {
          "base_uri": "https://localhost:8080/"
        },
        "id": "eQplGP2CYcTY",
        "outputId": "4d1e61da-8e94-40d0-d752-640577780617"
      },
      "source": [
        "df['Deal_Stage'] = df['Deal_Stage'].map({'Won':1,'Lost':0})\n",
        "df.head()\n",
        "df.info()"
      ],
      "execution_count": null,
      "outputs": [
        {
          "output_type": "stream",
          "text": [
            "<class 'pandas.core.frame.DataFrame'>\n",
            "Int64Index: 704096 entries, 0 to 704095\n",
            "Data columns (total 2 columns):\n",
            " #   Column                      Non-Null Count   Dtype \n",
            "---  ------                      --------------   ----- \n",
            " 0   Deal_Stage                  704096 non-null  int64 \n",
            " 1   Extracted Interaction Text  704096 non-null  object\n",
            "dtypes: int64(1), object(1)\n",
            "memory usage: 16.1+ MB\n"
          ],
          "name": "stdout"
        },
        {
          "output_type": "stream",
          "text": [
            "/usr/local/lib/python3.7/dist-packages/ipykernel_launcher.py:1: SettingWithCopyWarning: \n",
            "A value is trying to be set on a copy of a slice from a DataFrame.\n",
            "Try using .loc[row_indexer,col_indexer] = value instead\n",
            "\n",
            "See the caveats in the documentation: https://pandas.pydata.org/pandas-docs/stable/user_guide/indexing.html#returning-a-view-versus-a-copy\n",
            "  \"\"\"Entry point for launching an IPython kernel.\n"
          ],
          "name": "stderr"
        }
      ]
    },
    {
      "cell_type": "code",
      "metadata": {
        "id": "xXi5P0SEYhsy"
      },
      "source": [
        "from sklearn.linear_model import LogisticRegression\n",
        "from sklearn.preprocessing import RobustScaler\n",
        "import sqlite3\n",
        "from sklearn.feature_extraction.text import CountVectorizer\n",
        "from sklearn.feature_extraction.text import TfidfVectorizer\n",
        "from sklearn.metrics import confusion_matrix, roc_auc_score\n",
        "from sklearn.metrics import roc_curve, auc, accuracy_score\n",
        "from sklearn.metrics import classification_report\n",
        "from sklearn.model_selection import train_test_split\n",
        "from scipy.sparse import hstack"
      ],
      "execution_count": null,
      "outputs": []
    },
    {
      "cell_type": "code",
      "metadata": {
        "id": "-tkgxyBNYlwv"
      },
      "source": [
        "#train and test data\n",
        "X = df['Extracted Interaction Text']\n",
        "y = df['Deal_Stage']\n",
        "X_Train, X_test, y_Train, y_test = train_test_split(X, y, test_size=0.2, random_state=42, stratify=y, shuffle=True)\n",
        "X_train, X_cross, y_train, y_cross = train_test_split(X_Train, y_Train, test_size=0.1, random_state=42, shuffle=True)"
      ],
      "execution_count": null,
      "outputs": []
    },
    {
      "cell_type": "code",
      "metadata": {
        "id": "vR74dGCiYuGQ"
      },
      "source": [
        "#BOW(bag of words)\n",
        "count= CountVectorizer()\n",
        "count.fit(X_train)\n",
        "Train_BOW = count.transform(X_train)\n",
        "CrossVal_BOW = count.transform(X_cross)\n",
        "Test_BOW= count.transform(X_test)"
      ],
      "execution_count": null,
      "outputs": []
    },
    {
      "cell_type": "code",
      "metadata": {
        "id": "gRfU5cSUYwir"
      },
      "source": [
        "#Logistic Regression model using Hyperparameter tuning and BOW vectorizers\n",
        "c=[0.0001,0.001,0.01,0.1,1,10,100,1000]\n",
        "Train_AUC_BOW = []\n",
        "CrossVal_AUC_BOW = []\n",
        "for i in c:\n",
        "  log_reg = LogisticRegression(C=i,max_iter=1000)\n",
        "  log_reg.fit(Train_BOW, y_train)\n",
        "  Train_y_pred =  log_reg.predict_proba(Train_BOW)[:,1]\n",
        "  Train_AUC_BOW.append(roc_auc_score(y_train,Train_y_pred))\n",
        "  CrossVal_y_pred =  log_reg.predict_proba(CrossVal_BOW)[:,1]\n",
        "  CrossVal_AUC_BOW.append(roc_auc_score(y_cross,CrossVal_y_pred))"
      ],
      "execution_count": null,
      "outputs": []
    },
    {
      "cell_type": "code",
      "metadata": {
        "colab": {
          "base_uri": "https://localhost:8080/",
          "height": 279
        },
        "id": "oosrK4ZLY2Re",
        "outputId": "84583859-8fa9-4091-f35b-c40dbb576e72"
      },
      "source": [
        "C=[]\n",
        "for i in range(len(c)):\n",
        "  C.append(np.math.log(c[i]))\n",
        "plt.plot(C, Train_AUC_BOW, label='Train AUC')\n",
        "plt.scatter(C, Train_AUC_BOW)\n",
        "plt.plot(C, CrossVal_AUC_BOW, label='CrossVal AUC')\n",
        "plt.scatter(C, CrossVal_AUC_BOW)\n",
        "plt.legend()\n",
        "plt.xlabel(\"lambda : hyperparameter\")\n",
        "plt.ylabel(\"AUC\")\n",
        "plt.show()"
      ],
      "execution_count": null,
      "outputs": [
        {
          "output_type": "display_data",
          "data": {
            "image/png": "[encoded data removed]",
            "text/plain": [
              "<Figure size 432x288 with 1 Axes>"
            ]
          },
          "metadata": {
            "tags": [],
            "needs_background": "light"
          }
        }
      ]
    },
    {
      "cell_type": "code",
      "metadata": {
        "id": "thPbH6p5Y3eu"
      },
      "source": [
        "optimal_inverse_lambda=c[CrossVal_AUC_BOW.index(max(CrossVal_AUC_BOW))]\n",
        "Classifier=LogisticRegression(C=optimal_inverse_lambda)\n",
        "Classifier.fit(Train_BOW,y_train)\n",
        "Train_FPR, Train_TPR, Thresholds = roc_curve(y_train, Classifier.predict_proba(Train_BOW)[:,1])\n",
        "Test_FPR, Test_TPR, Thresholds = roc_curve(y_test, Classifier.predict_proba(Test_BOW)[:,1])"
      ],
      "execution_count": null,
      "outputs": []
    },
    {
      "cell_type": "code",
      "metadata": {
        "colab": {
          "base_uri": "https://localhost:8080/",
          "height": 295
        },
        "id": "yjtmRZkaY6Q2",
        "outputId": "0ecc5572-88dd-4975-fad6-7491f54044e9"
      },
      "source": [
        "plt.plot(Train_FPR, Train_TPR, label=\"Train AUC = \"+ str(auc(Train_FPR, Train_TPR)))\n",
        "plt.plot(Test_FPR, Test_TPR, label=\"Test AUC = \"+ str(auc(Test_FPR, Test_TPR)))\n",
        "plt.legend()\n",
        "plt.xlabel(\"Lambda : hyperparameter\")\n",
        "plt.ylabel(\"AUC\")\n",
        "plt.title(\"ERROR PLOTS\")\n",
        "plt.show()"
      ],
      "execution_count": null,
      "outputs": [
        {
          "output_type": "display_data",
          "data": {
            "image/png": "[encoded data removed]",
            "text/plain": [
              "<Figure size 432x288 with 1 Axes>"
            ]
          },
          "metadata": {
            "tags": [],
            "needs_background": "light"
          }
        }
      ]
    },
    {
      "cell_type": "code",
      "metadata": {
        "colab": {
          "base_uri": "https://localhost:8080/"
        },
        "id": "1MZ12h9kZ4RR",
        "outputId": "e948bb6d-2469-424d-dadb-e8a45946874b"
      },
      "source": [
        "y_pred = Classifier.predict(Test_BOW)\n",
        "y_pred"
      ],
      "execution_count": null,
      "outputs": [
        {
          "output_type": "execute_result",
          "data": {
            "text/plain": [
              "array([1, 1, 1, ..., 1, 1, 1])"
            ]
          },
          "metadata": {
            "tags": []
          },
          "execution_count": 256
        }
      ]
    },
    {
      "cell_type": "code",
      "metadata": {
        "colab": {
          "base_uri": "https://localhost:8080/"
        },
        "id": "Hyy872LjZ5ZI",
        "outputId": "3d385a46-eed7-40e4-b456-731169ae1d5a"
      },
      "source": [
        "confusion_matrix(y_test, y_pred)"
      ],
      "execution_count": null,
      "outputs": [
        {
          "output_type": "execute_result",
          "data": {
            "text/plain": [
              "array([[    0, 52124],\n",
              "       [    0, 88696]])"
            ]
          },
          "metadata": {
            "tags": []
          },
          "execution_count": 257
        }
      ]
    },
    {
      "cell_type": "code",
      "metadata": {
        "colab": {
          "base_uri": "https://localhost:8080/"
        },
        "id": "-1dKYVtrZ9YA",
        "outputId": "c6557b23-8ada-4c26-be6a-ab24867011f7"
      },
      "source": [
        "accuracy_score(y_test, y_pred)"
      ],
      "execution_count": null,
      "outputs": [
        {
          "output_type": "execute_result",
          "data": {
            "text/plain": [
              "0.629853713961085"
            ]
          },
          "metadata": {
            "tags": []
          },
          "execution_count": 258
        }
      ]
    },
    {
      "cell_type": "code",
      "metadata": {
        "colab": {
          "base_uri": "https://localhost:8080/"
        },
        "id": "Cn2sLqyyaDoC",
        "outputId": "f73b8106-c08a-461f-8749-aa199738d8d5"
      },
      "source": [
        "print(classification_report(y_test, y_pred))"
      ],
      "execution_count": null,
      "outputs": [
        {
          "output_type": "stream",
          "text": [
            "              precision    recall  f1-score   support\n",
            "\n",
            "           0       0.00      0.00      0.00     52124\n",
            "           1       0.63      1.00      0.77     88696\n",
            "\n",
            "    accuracy                           0.63    140820\n",
            "   macro avg       0.31      0.50      0.39    140820\n",
            "weighted avg       0.40      0.63      0.49    140820\n",
            "\n"
          ],
          "name": "stdout"
        },
        {
          "output_type": "stream",
          "text": [
            "/usr/local/lib/python3.7/dist-packages/sklearn/metrics/_classification.py:1272: UndefinedMetricWarning: Precision and F-score are ill-defined and being set to 0.0 in labels with no predicted samples. Use `zero_division` parameter to control this behavior.\n",
            "  _warn_prf(average, modifier, msg_start, len(result))\n"
          ],
          "name": "stderr"
        }
      ]
    },
    {
      "cell_type": "code",
      "metadata": {
        "colab": {
          "base_uri": "https://localhost:8080/"
        },
        "id": "OiGR9K7taF_o",
        "outputId": "e2d0f648-ebed-438f-e43d-6588610e819f"
      },
      "source": [
        "feature_names = count.get_feature_names()\n",
        "prob_sorted = sorted(zip(Classifier.coef_[0], feature_names))\n",
        "print(\"Top 10 negative words\")\n",
        "print(prob_sorted[:10])\n",
        "print(\"Top 10 positive words\")\n",
        "print(prob_sorted[:-(11):-1])"
      ],
      "execution_count": null,
      "outputs": [
        {
          "output_type": "stream",
          "text": [
            "Top 10 negative words\n",
            "[(-0.007535269062105677, 'closed'), (-0.007087400279066763, 'last'), (-0.006786751125838225, 'begin'), (-0.006633616646110296, 'business'), (-0.006444921130013076, 'thank'), (-0.006149943431408082, 'ideas'), (-0.005669448893670218, 'product'), (-0.005521573222611449, 'possible'), (-0.004950342950541432, 'deal'), (-0.0047636592940431014, 'best')]\n",
            "Top 10 positive words\n",
            "[(0.007888279675125946, 'price'), (0.006845323992185465, 'proposal'), (0.006313649684018803, 'sure'), (0.00621052502013555, 'mvc'), (0.006184074407606528, 'inform'), (0.005773988118589469, 'another'), (0.005640931000001101, 'hope'), (0.005312836660682099, 'please'), (0.005216086640172964, '000'), (0.004753530114574147, 'office')]\n"
          ],
          "name": "stdout"
        }
      ]
    },
    {
      "cell_type": "code",
      "metadata": {
        "colab": {
          "base_uri": "https://localhost:8080/"
        },
        "id": "5ilZdWsyaI8O",
        "outputId": "f89f2b0a-fc76-4503-daeb-623cc028cdef"
      },
      "source": [
        "#Considering other factors and text conversion\n",
        "df1['Sales_Agent'].unique()"
      ],
      "execution_count": null,
      "outputs": [
        {
          "output_type": "execute_result",
          "data": {
            "text/plain": [
              "array(['Corliss Cosme', 'Rosalina Dieter', 'Donn Cantrell',\n",
              "       'Wilburn Farren', 'Lajuana Vencill', 'Zane Levy',\n",
              "       'Kary Hendrixson', 'Darcel Schlecht', 'Garret Kinder',\n",
              "       'James Ascencio', 'Elease Gluck', 'Versie Hillebrand',\n",
              "       'Maureen Marcano', 'Anna Snelling', 'Markita Hansen',\n",
              "       'Vicki Laflamme', 'Marty Freudenburg', 'Gladys Colclough',\n",
              "       'Violet Mclelland', 'Moses Frase', 'Rosie Papadopoulos',\n",
              "       'Hayden Neloms', 'Jonathan Berthelot', 'Kami Bicknell',\n",
              "       'Reed Clapper', 'Niesha Huffines', 'Cassey Cress',\n",
              "       'Daniell Hammack', 'Cecily Lampkin', 'Boris Faz'], dtype=object)"
            ]
          },
          "metadata": {
            "tags": []
          },
          "execution_count": 261
        }
      ]
    },
    {
      "cell_type": "code",
      "metadata": {
        "id": "a1jxKEpfbhuG"
      },
      "source": [
        "df1['Deal_Stage'] = df1['Deal_Stage'].map({'Won':1,'Lost':0})\n",
        "ord_agents = df1.groupby('Sales_Agent')['Deal_Stage'].mean().sort_values()"
      ],
      "execution_count": null,
      "outputs": []
    },
    {
      "cell_type": "code",
      "metadata": {
        "colab": {
          "base_uri": "https://localhost:8080/"
        },
        "id": "_f8EITJ0cGET",
        "outputId": "0eacfe70-6f13-40ac-fa75-53659b445139"
      },
      "source": [
        "ord_agents = df1.groupby('Sales_Agent')['Deal_Stage'].mean().sort_values().index\n",
        "ord_agents"
      ],
      "execution_count": null,
      "outputs": [
        {
          "output_type": "execute_result",
          "data": {
            "text/plain": [
              "Index(['Lajuana Vencill', 'Markita Hansen', 'Gladys Colclough',\n",
              "       'Donn Cantrell', 'Niesha Huffines', 'Daniell Hammack', 'Elease Gluck',\n",
              "       'Anna Snelling', 'Kary Hendrixson', 'Cassey Cress', 'Marty Freudenburg',\n",
              "       'Zane Levy', 'Corliss Cosme', 'Darcel Schlecht', 'Violet Mclelland',\n",
              "       'Vicki Laflamme', 'Kami Bicknell', 'James Ascencio',\n",
              "       'Rosie Papadopoulos', 'Jonathan Berthelot', 'Moses Frase',\n",
              "       'Garret Kinder', 'Boris Faz', 'Cecily Lampkin', 'Versie Hillebrand',\n",
              "       'Reed Clapper', 'Rosalina Dieter', 'Maureen Marcano', 'Wilburn Farren',\n",
              "       'Hayden Neloms'],\n",
              "      dtype='object', name='Sales_Agent')"
            ]
          },
          "metadata": {
            "tags": []
          },
          "execution_count": 263
        }
      ]
    },
    {
      "cell_type": "code",
      "metadata": {
        "colab": {
          "base_uri": "https://localhost:8080/"
        },
        "id": "DCk1TKN1elBa",
        "outputId": "0ba6035a-862b-49e6-88cd-3efa3c63bcfb"
      },
      "source": [
        "#dictionary that maps each agent to the number\n",
        "ordered_agents = {k:i for i, k in enumerate(ord_agents, 0)} \n",
        "ordered_agents"
      ],
      "execution_count": null,
      "outputs": [
        {
          "output_type": "execute_result",
          "data": {
            "text/plain": [
              "{'Anna Snelling': 7,\n",
              " 'Boris Faz': 22,\n",
              " 'Cassey Cress': 9,\n",
              " 'Cecily Lampkin': 23,\n",
              " 'Corliss Cosme': 12,\n",
              " 'Daniell Hammack': 5,\n",
              " 'Darcel Schlecht': 13,\n",
              " 'Donn Cantrell': 3,\n",
              " 'Elease Gluck': 6,\n",
              " 'Garret Kinder': 21,\n",
              " 'Gladys Colclough': 2,\n",
              " 'Hayden Neloms': 29,\n",
              " 'James Ascencio': 17,\n",
              " 'Jonathan Berthelot': 19,\n",
              " 'Kami Bicknell': 16,\n",
              " 'Kary Hendrixson': 8,\n",
              " 'Lajuana Vencill': 0,\n",
              " 'Markita Hansen': 1,\n",
              " 'Marty Freudenburg': 10,\n",
              " 'Maureen Marcano': 27,\n",
              " 'Moses Frase': 20,\n",
              " 'Niesha Huffines': 4,\n",
              " 'Reed Clapper': 25,\n",
              " 'Rosalina Dieter': 26,\n",
              " 'Rosie Papadopoulos': 18,\n",
              " 'Versie Hillebrand': 24,\n",
              " 'Vicki Laflamme': 15,\n",
              " 'Violet Mclelland': 14,\n",
              " 'Wilburn Farren': 28,\n",
              " 'Zane Levy': 11}"
            ]
          },
          "metadata": {
            "tags": []
          },
          "execution_count": 264
        }
      ]
    },
    {
      "cell_type": "code",
      "metadata": {
        "id": "D1lsagghfoQX"
      },
      "source": [
        "df1['Agents'] = df1.Sales_Agent.map(ordered_agents)"
      ],
      "execution_count": null,
      "outputs": []
    },
    {
      "cell_type": "code",
      "metadata": {
        "colab": {
          "base_uri": "https://localhost:8080/"
        },
        "id": "NoCZctYDf9F7",
        "outputId": "a3059fe0-8811-494c-9c6c-a45a7f118db0"
      },
      "source": [
        "df1['Product'].unique()"
      ],
      "execution_count": null,
      "outputs": [
        {
          "output_type": "execute_result",
          "data": {
            "text/plain": [
              "array(['GTX Plus Basic', 'MG Special', 'MG Advanced', 'GTX Basic',\n",
              "       'GTXPro', 'GTX Plus Pro', 'GTK 500'], dtype=object)"
            ]
          },
          "metadata": {
            "tags": []
          },
          "execution_count": 266
        }
      ]
    },
    {
      "cell_type": "code",
      "metadata": {
        "id": "Ca1H1YR1giHA"
      },
      "source": [
        "ord_products = df1.groupby('Product')['Deal_Stage'].mean().sort_values().index"
      ],
      "execution_count": null,
      "outputs": []
    },
    {
      "cell_type": "code",
      "metadata": {
        "colab": {
          "base_uri": "https://localhost:8080/"
        },
        "id": "9k1-OPXvgi1N",
        "outputId": "b7cbd45a-69f7-4010-f242-3ea3df41457f"
      },
      "source": [
        "product_label = {k:i for i, k in enumerate(ord_products, 0)} \n",
        "product_label"
      ],
      "execution_count": null,
      "outputs": [
        {
          "output_type": "execute_result",
          "data": {
            "text/plain": [
              "{'GTK 500': 0,\n",
              " 'GTX Basic': 4,\n",
              " 'GTX Plus Basic': 2,\n",
              " 'GTX Plus Pro': 5,\n",
              " 'GTXPro': 3,\n",
              " 'MG Advanced': 1,\n",
              " 'MG Special': 6}"
            ]
          },
          "metadata": {
            "tags": []
          },
          "execution_count": 268
        }
      ]
    },
    {
      "cell_type": "code",
      "metadata": {
        "id": "BE78OEdbf_EF"
      },
      "source": [
        "df1['Product_Label'] = df1.Product.map(product_label)\n",
        "cols_use = ['Agents', 'Deal_Stage', 'Product_Label', 'Close_Value','DateDiff','Extracted Interaction Text']\n",
        "df2 = df1[cols_use]"
      ],
      "execution_count": null,
      "outputs": []
    },
    {
      "cell_type": "code",
      "metadata": {
        "colab": {
          "base_uri": "https://localhost:8080/",
          "height": 363
        },
        "id": "sWkO1xTYhMKn",
        "outputId": "227133bb-8d5a-4245-e725-170931f4f05f"
      },
      "source": [
        "df2.head(10)"
      ],
      "execution_count": null,
      "outputs": [
        {
          "output_type": "execute_result",
          "data": {
            "text/html": [
              "<div>\n",
              "<style scoped>\n",
              "    .dataframe tbody tr th:only-of-type {\n",
              "        vertical-align: middle;\n",
              "    }\n",
              "\n",
              "    .dataframe tbody tr th {\n",
              "        vertical-align: top;\n",
              "    }\n",
              "\n",
              "    .dataframe thead th {\n",
              "        text-align: right;\n",
              "    }\n",
              "</style>\n",
              "<table border=\"1\" class=\"dataframe\">\n",
              "  <thead>\n",
              "    <tr style=\"text-align: right;\">\n",
              "      <th></th>\n",
              "      <th>Agents</th>\n",
              "      <th>Deal_Stage</th>\n",
              "      <th>Product_Label</th>\n",
              "      <th>Close_Value</th>\n",
              "      <th>DateDiff</th>\n",
              "      <th>Extracted Interaction Text</th>\n",
              "    </tr>\n",
              "  </thead>\n",
              "  <tbody>\n",
              "    <tr>\n",
              "      <th>0</th>\n",
              "      <td>12</td>\n",
              "      <td>1</td>\n",
              "      <td>2</td>\n",
              "      <td>1255</td>\n",
              "      <td>141</td>\n",
              "      <td>We writing GHF regarding previous discussions ...</td>\n",
              "    </tr>\n",
              "    <tr>\n",
              "      <th>1</th>\n",
              "      <td>12</td>\n",
              "      <td>1</td>\n",
              "      <td>2</td>\n",
              "      <td>1255</td>\n",
              "      <td>141</td>\n",
              "      <td>I asked send progress project end last week I ...</td>\n",
              "    </tr>\n",
              "    <tr>\n",
              "      <th>2</th>\n",
              "      <td>12</td>\n",
              "      <td>1</td>\n",
              "      <td>2</td>\n",
              "      <td>1255</td>\n",
              "      <td>141</td>\n",
              "      <td>I wish commend receptionist, Jany Dan, way han...</td>\n",
              "    </tr>\n",
              "    <tr>\n",
              "      <th>3</th>\n",
              "      <td>12</td>\n",
              "      <td>1</td>\n",
              "      <td>2</td>\n",
              "      <td>1255</td>\n",
              "      <td>141</td>\n",
              "      <td>I need cancel appointment I made January 29, 9...</td>\n",
              "    </tr>\n",
              "    <tr>\n",
              "      <th>4</th>\n",
              "      <td>12</td>\n",
              "      <td>1</td>\n",
              "      <td>2</td>\n",
              "      <td>1255</td>\n",
              "      <td>141</td>\n",
              "      <td>Congratulations! Your hard work paid off! Afte...</td>\n",
              "    </tr>\n",
              "    <tr>\n",
              "      <th>5</th>\n",
              "      <td>12</td>\n",
              "      <td>1</td>\n",
              "      <td>2</td>\n",
              "      <td>1255</td>\n",
              "      <td>141</td>\n",
              "      <td>It gives immense pleasure write regard offer m...</td>\n",
              "    </tr>\n",
              "    <tr>\n",
              "      <th>6</th>\n",
              "      <td>12</td>\n",
              "      <td>1</td>\n",
              "      <td>2</td>\n",
              "      <td>1255</td>\n",
              "      <td>141</td>\n",
              "      <td>The business deal closed successfully</td>\n",
              "    </tr>\n",
              "    <tr>\n",
              "      <th>7</th>\n",
              "      <td>12</td>\n",
              "      <td>1</td>\n",
              "      <td>2</td>\n",
              "      <td>1255</td>\n",
              "      <td>141</td>\n",
              "      <td>Thank computer benchmarks produced Thorogood C...</td>\n",
              "    </tr>\n",
              "    <tr>\n",
              "      <th>8</th>\n",
              "      <td>12</td>\n",
              "      <td>1</td>\n",
              "      <td>2</td>\n",
              "      <td>1255</td>\n",
              "      <td>141</td>\n",
              "      <td>I pleased able discuss management plan. I meet...</td>\n",
              "    </tr>\n",
              "    <tr>\n",
              "      <th>9</th>\n",
              "      <td>12</td>\n",
              "      <td>1</td>\n",
              "      <td>2</td>\n",
              "      <td>1255</td>\n",
              "      <td>141</td>\n",
              "      <td>I considered carefully must decline offer posi...</td>\n",
              "    </tr>\n",
              "  </tbody>\n",
              "</table>\n",
              "</div>"
            ],
            "text/plain": [
              "   Agents  ...                         Extracted Interaction Text\n",
              "0      12  ...  We writing GHF regarding previous discussions ...\n",
              "1      12  ...  I asked send progress project end last week I ...\n",
              "2      12  ...  I wish commend receptionist, Jany Dan, way han...\n",
              "3      12  ...  I need cancel appointment I made January 29, 9...\n",
              "4      12  ...  Congratulations! Your hard work paid off! Afte...\n",
              "5      12  ...  It gives immense pleasure write regard offer m...\n",
              "6      12  ...              The business deal closed successfully\n",
              "7      12  ...  Thank computer benchmarks produced Thorogood C...\n",
              "8      12  ...  I pleased able discuss management plan. I meet...\n",
              "9      12  ...  I considered carefully must decline offer posi...\n",
              "\n",
              "[10 rows x 6 columns]"
            ]
          },
          "metadata": {
            "tags": []
          },
          "execution_count": 270
        }
      ]
    },
    {
      "cell_type": "code",
      "metadata": {
        "id": "doFyKf9phaE6"
      },
      "source": [
        "X = df2.drop('Deal_Stage', axis=1)\n",
        "y = df2['Deal_Stage']\n",
        "X_Train, X_test, y_Train, y_test = train_test_split(X, y, test_size=0.2, random_state=42, stratify=y, shuffle=True)\n",
        "X_train, X_cross, y_train, y_cross = train_test_split(X_Train, y_Train, test_size=0.1, random_state=42, shuffle=True)"
      ],
      "execution_count": null,
      "outputs": []
    },
    {
      "cell_type": "code",
      "metadata": {
        "id": "8mTBqAN0hpW6"
      },
      "source": [
        "train=[]\n",
        "for i in X_train['Agents']:\n",
        "    train.append(i)\n",
        "train_prdt=[]\n",
        "for i in X_train['Product_Label']:\n",
        "    train_prdt.append(i)\n",
        "train_diff=[]\n",
        "for i in X_train['DateDiff']:\n",
        "    train_diff.append(i)\n",
        "train_cval=[]\n",
        "for i in X_train['Close_Value']:\n",
        "    train_cval.append(i)"
      ],
      "execution_count": null,
      "outputs": []
    },
    {
      "cell_type": "code",
      "metadata": {
        "id": "8lRikpRliTO8"
      },
      "source": [
        "cross=[]\n",
        "for i in X_cross['Agents']:\n",
        "    cross.append(i)\n",
        "cross_prdt=[]\n",
        "for i in X_cross['Product_Label']:\n",
        "    cross_prdt.append(i)\n",
        "cross_diff=[]\n",
        "for i in X_cross['DateDiff']:\n",
        "    cross_diff.append(i)\n",
        "cross_cval=[]\n",
        "for i in X_cross['Close_Value']:\n",
        "    cross_cval.append(i)"
      ],
      "execution_count": null,
      "outputs": []
    },
    {
      "cell_type": "code",
      "metadata": {
        "id": "Fv5hsujIjS2K"
      },
      "source": [
        "test=[]\n",
        "for i in X_test['Agents']:\n",
        "    test.append(i)\n",
        "test_prdt=[]\n",
        "for i in X_test['Product_Label']:\n",
        "    test_prdt.append(i)\n",
        "test_diff=[]\n",
        "for i in X_test['DateDiff']:\n",
        "    test_diff.append(i)\n",
        "test_cval=[]\n",
        "for i in X_test['Close_Value']:\n",
        "    test_cval.append(i)"
      ],
      "execution_count": null,
      "outputs": []
    },
    {
      "cell_type": "code",
      "metadata": {
        "id": "ZxF7ayJKjeLY"
      },
      "source": [
        "#Stacking arrays in sequence horizontally \n",
        "Train_BOW_mix = (hstack((Train_BOW,np.array(train)[:,None], np.array(train_prdt)[:,None], np.array(train_diff)[:,None], np.array(train_cval)[:,None]))).tocsr()\n",
        "\n",
        "Cross_BOW_mix = (hstack((CrossVal_BOW,np.array(cross)[:,None], np.array(cross_prdt)[:,None], np.array(cross_diff)[:,None], np.array(cross_cval)[:,None]))).tocsr()\n",
        "\n",
        "Test_BOW_mix = (hstack((Test_BOW,np.array(test)[:,None], np.array(test_prdt)[:,None], np.array(test_diff)[:,None], np.array(test_cval)[:,None]))).tocsr()"
      ],
      "execution_count": null,
      "outputs": []
    },
    {
      "cell_type": "code",
      "metadata": {
        "id": "wlU6S3kDjxCO"
      },
      "source": [
        "#Model using Text + Other numeric Features\n",
        "\n",
        "c=[0.0001,0.001,0.01,0.1,1,10,100,1000]\n",
        "Train_AUC_BOW = []\n",
        "CrossVal_AUC_BOW = []\n",
        "for i in c:\n",
        "  log_reg = LogisticRegression(C=i,max_iter=1000)\n",
        "  logreg.fit(Train_BOW_mix, y_train)\n",
        "  Train_y_pred =  logreg.predict_proba(Train_BOW_mix)[:,1]\n",
        "  Train_AUC_BOW.append(roc_auc_score(y_train,Train_y_pred))\n",
        "  CrossVal_y_pred =  logreg.predict_proba(Cross_BOW_mix)[:,1]\n",
        "  CrossVal_AUC_BOW.append(roc_auc_score(y_cross,CrossVal_y_pred))"
      ],
      "execution_count": null,
      "outputs": []
    },
    {
      "cell_type": "code",
      "metadata": {
        "colab": {
          "base_uri": "https://localhost:8080/",
          "height": 295
        },
        "id": "zZzHrM7ckPVL",
        "outputId": "5fb82e34-2a69-4b30-db33-b7bfc89c0853"
      },
      "source": [
        "C=[]\n",
        "for i in range(len(c)):\n",
        "  C.append(np.math.log(c[i]))\n",
        "plt.plot(C, Train_AUC_BOW, label='Train AUC')\n",
        "plt.scatter(C, Train_AUC_BOW)\n",
        "plt.plot(C, CrossVal_AUC_BOW, label='CrossVal AUC')\n",
        "plt.scatter(C, CrossVal_AUC_BOW)\n",
        "plt.legend()\n",
        "plt.xlabel(\"Lambda : hyperparameter\")\n",
        "plt.ylabel(\"AUC\")\n",
        "plt.title(\"ERROR PLOTS\")\n",
        "plt.show()"
      ],
      "execution_count": null,
      "outputs": [
        {
          "output_type": "display_data",
          "data": {
            "image/png": "[encoded data removed]",
            "text/plain": [
              "<Figure size 432x288 with 1 Axes>"
            ]
          },
          "metadata": {
            "tags": [],
            "needs_background": "light"
          }
        }
      ]
    },
    {
      "cell_type": "code",
      "metadata": {
        "colab": {
          "base_uri": "https://localhost:8080/"
        },
        "id": "QNDQfhP6ktpW",
        "outputId": "25a9db6b-1c2f-45ed-d72d-634307a29661"
      },
      "source": [
        "optimal_inverse_lambda=c[CrossVal_AUC_BOW.index(max(CrossVal_AUC_BOW))]\n",
        "optimal_inverse_lambda\n"
      ],
      "execution_count": null,
      "outputs": [
        {
          "output_type": "execute_result",
          "data": {
            "text/plain": [
              "0.0001"
            ]
          },
          "metadata": {
            "tags": []
          },
          "execution_count": 278
        }
      ]
    },
    {
      "cell_type": "code",
      "metadata": {
        "colab": {
          "base_uri": "https://localhost:8080/"
        },
        "id": "vDX9RXXfkuKE",
        "outputId": "3dd8119f-7560-47b3-ead9-19e9ac911277"
      },
      "source": [
        "Classifier=LogisticRegression(C=optimal_inverse_lambda)\n",
        "Classifier.fit(Train_BOW_mix,y_train)\n",
        "Train_FPR, Train_TPR, Thresholds = roc_curve(y_train, Classifier.predict_proba(Train_BOW_mix)[:,1])\n",
        "Test_FPR, Test_TPR, Thresholds = roc_curve(y_test, Classifier.predict_proba(Test_BOW_mix)[:,1])"
      ],
      "execution_count": null,
      "outputs": [
        {
          "output_type": "stream",
          "text": [
            "/usr/local/lib/python3.7/dist-packages/sklearn/linear_model/_logistic.py:940: ConvergenceWarning: lbfgs failed to converge (status=1):\n",
            "STOP: TOTAL NO. of ITERATIONS REACHED LIMIT.\n",
            "\n",
            "Increase the number of iterations (max_iter) or scale the data as shown in:\n",
            "    https://scikit-learn.org/stable/modules/preprocessing.html\n",
            "Please also refer to the documentation for alternative solver options:\n",
            "    https://scikit-learn.org/stable/modules/linear_model.html#logistic-regression\n",
            "  extra_warning_msg=_LOGISTIC_SOLVER_CONVERGENCE_MSG)\n"
          ],
          "name": "stderr"
        }
      ]
    },
    {
      "cell_type": "code",
      "metadata": {
        "colab": {
          "base_uri": "https://localhost:8080/",
          "height": 295
        },
        "id": "rkLbDaYkmAKV",
        "outputId": "23c42b03-7768-4f2c-9a71-099776c2cc30"
      },
      "source": [
        "\n",
        "plt.plot(Train_FPR, Train_TPR, label=\"Train AUC =\"+str(auc(Train_FPR, Train_TPR)))\n",
        "plt.plot(Test_FPR, Test_TPR, label=\"Test AUC =\"+str(auc(Test_FPR, Test_TPR)))\n",
        "plt.legend()\n",
        "plt.xlabel(\"Lambda : hyperparameter\")\n",
        "plt.ylabel(\"AUC\")\n",
        "plt.title(\"ERROR PLOTS\")\n",
        "plt.show()"
      ],
      "execution_count": null,
      "outputs": [
        {
          "output_type": "display_data",
          "data": {
            "image/png": "[encoded data removed]",
            "text/plain": [
              "<Figure size 432x288 with 1 Axes>"
            ]
          },
          "metadata": {
            "tags": [],
            "needs_background": "light"
          }
        }
      ]
    },
    {
      "cell_type": "code",
      "metadata": {
        "colab": {
          "base_uri": "https://localhost:8080/"
        },
        "id": "1C7NqLKNmEt-",
        "outputId": "f3568bc7-e7d2-4d2c-b3ef-a0c1467dd36f"
      },
      "source": [
        "y_pred = Classifier.predict(Test_BOW_mix)\n",
        "y_pred"
      ],
      "execution_count": null,
      "outputs": [
        {
          "output_type": "execute_result",
          "data": {
            "text/plain": [
              "array([1, 1, 1, ..., 1, 1, 1])"
            ]
          },
          "metadata": {
            "tags": []
          },
          "execution_count": 281
        }
      ]
    },
    {
      "cell_type": "code",
      "metadata": {
        "colab": {
          "base_uri": "https://localhost:8080/"
        },
        "id": "-5oKx9V3mNKw",
        "outputId": "79564f1f-0610-4e4e-b452-9be1b3ed2d73"
      },
      "source": [
        "confusion_matrix(y_test, y_pred)"
      ],
      "execution_count": null,
      "outputs": [
        {
          "output_type": "execute_result",
          "data": {
            "text/plain": [
              "array([[10324, 41800],\n",
              "       [ 2632, 86064]])"
            ]
          },
          "metadata": {
            "tags": []
          },
          "execution_count": 282
        }
      ]
    },
    {
      "cell_type": "code",
      "metadata": {
        "colab": {
          "base_uri": "https://localhost:8080/"
        },
        "id": "NxByExuSmWZD",
        "outputId": "a05d5b13-b7a4-463d-8d5b-ffc47079ef4f"
      },
      "source": [
        "accuracy_score(y_test, y_pred)"
      ],
      "execution_count": null,
      "outputs": [
        {
          "output_type": "execute_result",
          "data": {
            "text/plain": [
              "0.6844766368413577"
            ]
          },
          "metadata": {
            "tags": []
          },
          "execution_count": 283
        }
      ]
    },
    {
      "cell_type": "code",
      "metadata": {
        "colab": {
          "base_uri": "https://localhost:8080/"
        },
        "id": "EmQAQs9wmZPn",
        "outputId": "1193b43f-2a71-4217-b7dd-2fd8e3e6dc72"
      },
      "source": [
        "print(classification_report(y_test, y_pred))"
      ],
      "execution_count": null,
      "outputs": [
        {
          "output_type": "stream",
          "text": [
            "              precision    recall  f1-score   support\n",
            "\n",
            "           0       0.80      0.20      0.32     52124\n",
            "           1       0.67      0.97      0.79     88696\n",
            "\n",
            "    accuracy                           0.68    140820\n",
            "   macro avg       0.73      0.58      0.56    140820\n",
            "weighted avg       0.72      0.68      0.62    140820\n",
            "\n"
          ],
          "name": "stdout"
        }
      ]
    },
    {
      "cell_type": "code",
      "metadata": {
        "colab": {
          "base_uri": "https://localhost:8080/"
        },
        "id": "kZQEC1IEmcGY",
        "outputId": "3c7f0fe8-92d8-4276-f68d-5585e7e08ec3"
      },
      "source": [
        "feature_names = count.get_feature_names()\n",
        "prob_sorted = sorted(zip(Classifier.coef_[0], feature_names))\n",
        "print(\"Top 20 negative class words\")\n",
        "print(prob_sorted[:20])\n",
        "print(\"Top 20 positive class words\")\n",
        "print(prob_sorted[:-(21):-1])"
      ],
      "execution_count": null,
      "outputs": [
        {
          "output_type": "stream",
          "text": [
            "Top 10 negative class words\n",
            "[(-0.04159998613075136, 'time'), (-0.030198513556402438, 'product'), (-0.026878776608051855, 'meet'), (-0.022603549148584628, 'thank'), (-0.02257272515577452, 'deal'), (-0.0218711024348352, 'position'), (-0.02055060585628972, 'sorry'), (-0.02007911333851044, 'inform'), (-0.019534334646978582, 'need'), (-0.019105712668859406, 'you'), (-0.01864479551485809, 'must'), (-0.01855016626850373, 'it'), (-0.01754250325798072, 'last'), (-0.01677738775463704, 'the'), (-0.016449136792834336, 'conference'), (-0.016401900393076665, 'accept'), (-0.016250579638884172, 'new'), (-0.016028717627576974, 'closed'), (-0.015784188671514706, 'us'), (-0.015373545357033024, 'staff')]\n",
            "Top 10 positive class words\n",
            "[(0.0071024325171389294, 'looking'), (0.006863244968808157, 'conduct'), (0.0064321235934197, 'accepted'), (0.005898066809459864, 'marketing'), (0.005655851153273632, 'reply'), (0.0055783443627135205, 'others'), (0.00544591215611976, 'proposal'), (0.004324220774137665, 'know'), (0.0042622046138497014, 'responsiveness'), (0.0042622046138497014, 'recommended'), (0.0042622046138497014, 'provides'), (0.0041959572831926735, 'positive'), (0.00415126327617489, 'business'), (0.003933050445181273, 'write'), (0.003933050445181273, 'regard'), (0.003933050445181273, 'immense'), (0.0035364626691030635, 'offering'), (0.0033983408893802757, 'company'), (0.0033420416564742695, 'comprehensive'), (0.003295141226334799, 'terms')]\n"
          ],
          "name": "stdout"
        }
      ]
    },
    {
      "cell_type": "code",
      "metadata": {
        "id": "x6hNSSlTmgWR"
      },
      "source": [
        ""
      ],
      "execution_count": null,
      "outputs": []
    }
  ]
}